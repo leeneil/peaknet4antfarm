{
 "cells": [
  {
   "cell_type": "markdown",
   "metadata": {},
   "source": [
    "# Peaknet API demo for PSANA\n",
    "\n",
    "This notebook demonstrates how to utilze Peaknet API to train and test on PSANA data\n",
    "\n",
    "Author: Po-Nan Li (Stanford EE and SLAC)\n",
    "\n",
    "Last update: 2019/2/28\n"
   ]
  },
  {
   "cell_type": "markdown",
   "metadata": {},
   "source": [
    "## Install\n",
    "\n",
    "``` shell\n",
    "conda create python=2.7 h5py jupyter -p ~/space/envs/peaknet\n",
    "conda install psana-conda=1.4.2 -c lcls-rhel\n",
    "conda install pytorch=0.1.12 torchvision cuda80 -c soumith\n",
    "conda install tensorboardX\n",
    "conda install pandas\n",
    "```\n"
   ]
  },
  {
   "cell_type": "markdown",
   "metadata": {},
   "source": [
    "## Import packages"
   ]
  },
  {
   "cell_type": "code",
   "execution_count": 1,
   "metadata": {},
   "outputs": [
    {
     "name": "stderr",
     "output_type": "stream",
     "text": [
      "/reg/neh/home/liponan/space/envs/peaknet/lib/python2.7/site-packages/h5py/__init__.py:34: FutureWarning: Conversion of the second argument of issubdtype from `float` to `np.floating` is deprecated. In future, it will be treated as `np.float64 == np.dtype(float).type`.\n",
      "  from ._conv import register_converters as _register_converters\n"
     ]
    }
   ],
   "source": [
    "#%reload_ext autoreload\n",
    "%load_ext autoreload\n",
    "%autoreload 2\n",
    "import psana\n",
    "import torch\n",
    "# import torchvision\n",
    "import numpy as np\n",
    "import time\n",
    "from peaknet import Peaknet\n",
    "from peaknet_utils import *\n",
    "import matplotlib.pyplot as plt\n",
    "import matplotlib.patches as pat\n",
    "import matplotlib.cm as cm"
   ]
  },
  {
   "cell_type": "markdown",
   "metadata": {},
   "source": [
    "## Data"
   ]
  },
  {
   "cell_type": "markdown",
   "metadata": {},
   "source": [
    "### Load data from psana"
   ]
  },
  {
   "cell_type": "code",
   "execution_count": 2,
   "metadata": {},
   "outputs": [
    {
     "name": "stdout",
     "output_type": "stream",
     "text": [
      "('run', 91, 'number of events available', 5164)\n",
      "('calib', (32, 185, 388))\n",
      "('max', 14687.662)\n",
      "('min', -1008.55444)\n"
     ]
    }
   ],
   "source": [
    "exp_name = \"cxic0415\"\n",
    "# run = 90\n",
    "# event_idx = 3963\n",
    "run = 91\n",
    "event_idx = 4633\n",
    "# run = 95\n",
    "# event_idx = 12159 # 12159, 13012\n",
    "\n",
    "ds = psana.DataSource(\"exp=\" + exp_name + \":run=\" + str(run) + \":idx\")\n",
    "det = psana.Detector('DscCsPad')\n",
    "this_run = ds.runs().next()\n",
    "times = this_run.times()\n",
    "num_events = len(times)\n",
    "print(\"run\", run, \"number of events available\", num_events)\n",
    "env = ds.env()\n",
    "\n",
    "evt = this_run.event(times[event_idx])\n",
    "calib = det.calib(evt) * det.mask(evt, calib=True, status=True,\n",
    "                          edges=True, central=True,\n",
    "                          unbond=True, unbondnbrs=True)\n",
    "print(\"calib\", calib.shape)\n",
    "print(\"max\", calib.max())\n",
    "print(\"min\", calib.min())"
   ]
  },
  {
   "cell_type": "markdown",
   "metadata": {},
   "source": [
    "### Build labels (train)"
   ]
  },
  {
   "cell_type": "code",
   "execution_count": 3,
   "metadata": {},
   "outputs": [
    {
     "name": "stdout",
     "output_type": "stream",
     "text": [
      "hits: 1365\n",
      "took 0.390300989151 s to build the training dataset\n",
      "('labels', 1365, 6)\n"
     ]
    }
   ],
   "source": [
    "# filename = \"/reg/neh/home/liponan/data/cxic0415/r0090/cxic0415_0090.cxi\" # 23817\n",
    "# filename = \"/reg/neh/home/liponan/data/cxic0415/r0095/cxic0415_0095.cxi\" # 4239\n",
    "filename = \"/reg/neh/home/liponan/data/cxic0415/r0091/cxic0415_0091_streak.cxi\" # 1635\n",
    "t0 = time.time()\n",
    "labels, eventIdxs = load_cxi_labels( filename, total_size=-1 )\n",
    "t1 = time.time()\n",
    "print(\"took \" + str(t1-t0) + \" s to build the training dataset\")\n",
    "print(\"labels\", len(labels), len(labels[0]))"
   ]
  },
  {
   "cell_type": "markdown",
   "metadata": {},
   "source": [
    "### Build labels (validate)"
   ]
  },
  {
   "cell_type": "code",
   "execution_count": 4,
   "metadata": {},
   "outputs": [
    {
     "name": "stdout",
     "output_type": "stream",
     "text": [
      "hits: 1365\n",
      "took 0.00816583633423 s to build the val dataset\n",
      "('val_labels', 10, 6)\n"
     ]
    }
   ],
   "source": [
    "# filename = \"/reg/neh/home/liponan/data/cxic0415/r0090/cxic0415_0090.cxi\"\n",
    "# filename = \"/reg/neh/home/liponan/data/cxic0415/r0095/cxic0415_0095.cxi\"\n",
    "filename = \"/reg/neh/home/liponan/data/cxic0415/r0091/cxic0415_0091_streak.cxi\"\n",
    "t0 = time.time()\n",
    "val_labels, val_eventIdxs = load_cxi_labels( filename, total_size=10 )\n",
    "t1 = time.time()\n",
    "print(\"took \" + str(t1-t0) + \" s to build the val dataset\")\n",
    "print(\"val_labels\", len(val_labels), len(val_labels[0]))"
   ]
  },
  {
   "cell_type": "markdown",
   "metadata": {},
   "source": [
    "### Test data loader"
   ]
  },
  {
   "cell_type": "code",
   "execution_count": 5,
   "metadata": {},
   "outputs": [
    {
     "name": "stdout",
     "output_type": "stream",
     "text": [
      "('imgs shape', (5, 32, 185, 388))\n"
     ]
    }
   ],
   "source": [
    "imgs = psana_img_loader(eventIdxs, 0, 5, det, this_run, times)\n",
    "print(\"imgs shape\", imgs.shape)"
   ]
  },
  {
   "cell_type": "markdown",
   "metadata": {},
   "source": [
    "## Network"
   ]
  },
  {
   "cell_type": "code",
   "execution_count": 7,
   "metadata": {},
   "outputs": [
    {
     "data": {
      "text/plain": [
       "Darknet (\n",
       "  (models): ModuleList (\n",
       "    (0): Sequential (\n",
       "      (conv1): Conv2d(1, 32, kernel_size=(3, 3), stride=(1, 1), padding=(1, 1), bias=False)\n",
       "      (bn1): BatchNorm2d(32, eps=1e-05, momentum=0.1, affine=True)\n",
       "      (leaky1): LeakyReLU (0.1, inplace)\n",
       "    )\n",
       "    (1): MaxPool2d (size=(2, 2), stride=(2, 2), dilation=(1, 1))\n",
       "    (2): Sequential (\n",
       "      (conv2): Conv2d(32, 64, kernel_size=(3, 3), stride=(1, 1), padding=(1, 1), bias=False)\n",
       "      (bn2): BatchNorm2d(64, eps=1e-05, momentum=0.1, affine=True)\n",
       "      (leaky2): LeakyReLU (0.1, inplace)\n",
       "    )\n",
       "    (3): MaxPool2d (size=(2, 2), stride=(2, 2), dilation=(1, 1))\n",
       "    (4): Sequential (\n",
       "      (conv3): Conv2d(64, 128, kernel_size=(3, 3), stride=(1, 1), padding=(1, 1), bias=False)\n",
       "      (bn3): BatchNorm2d(128, eps=1e-05, momentum=0.1, affine=True)\n",
       "      (leaky3): LeakyReLU (0.1, inplace)\n",
       "    )\n",
       "    (5): MaxPool2d (size=(2, 2), stride=(2, 2), dilation=(1, 1))\n",
       "    (6): Sequential (\n",
       "      (conv4): Conv2d(128, 256, kernel_size=(1, 1), stride=(1, 1), bias=False)\n",
       "      (bn4): BatchNorm2d(256, eps=1e-05, momentum=0.1, affine=True)\n",
       "      (leaky4): LeakyReLU (0.1, inplace)\n",
       "    )\n",
       "    (7): Sequential (\n",
       "      (conv5): Conv2d(256, 128, kernel_size=(3, 3), stride=(1, 1), padding=(1, 1), bias=False)\n",
       "      (bn5): BatchNorm2d(128, eps=1e-05, momentum=0.1, affine=True)\n",
       "      (leaky5): LeakyReLU (0.1, inplace)\n",
       "    )\n",
       "    (8): Sequential (\n",
       "      (conv6): Conv2d(128, 64, kernel_size=(3, 3), stride=(1, 1), padding=(1, 1), bias=False)\n",
       "      (bn6): BatchNorm2d(64, eps=1e-05, momentum=0.1, affine=True)\n",
       "      (leaky6): LeakyReLU (0.1, inplace)\n",
       "    )\n",
       "    (9): Sequential (\n",
       "      (conv7): Conv2d(64, 7, kernel_size=(1, 1), stride=(1, 1))\n",
       "    )\n",
       "    (10): RegionLoss (\n",
       "    )\n",
       "  )\n",
       "  (loss): RegionLoss (\n",
       "  )\n",
       ")"
      ]
     },
     "execution_count": 7,
     "metadata": {},
     "output_type": "execute_result"
    }
   ],
   "source": [
    "project_name = \"runs/cxic0415_91/2cls/ada/lr_0.0001\"\n",
    "n_ep = 1\n",
    "init_lr = 0.0001\n",
    "lr_policy = 4\n",
    "macro_batch_size = 3\n",
    "# algo = \"sgd\" #\"adagrad\"\n",
    "algo = \"adagrad\"\n",
    "\n",
    "params = {\"n_ep\":n_ep, \"lr\": init_lr, \"batch_size\":macro_batch_size, \"lr_policy\": lr_policy, \n",
    "          \"train_size\": len(labels), \"optim\": algo}\n",
    "\n",
    "net = Peaknet()\n",
    "net.loadCfg( \"/reg/neh/home/liponan/ai/pytorch-yolo2/cfg/newpeaksv10-asic-2cls.cfg\" )\n",
    "# net.loadWeights( \"../pytorch-yolo2/cfg/newpeaksv10-asic.cfg\", \n",
    "#                 \"../darknet/backup/newpeaksv10_500.weights\")\n",
    "net.init_model()\n",
    "net.model.cuda()"
   ]
  },
  {
   "cell_type": "markdown",
   "metadata": {},
   "source": [
    "## Train"
   ]
  },
  {
   "cell_type": "code",
   "execution_count": 8,
   "metadata": {},
   "outputs": [
    {
     "name": "stdout",
     "output_type": "stream",
     "text": [
      "('# iters per epoch', 455)\n",
      "============= EPOCH 1 ==========\n",
      "32: nGT 46, recall 2, proposals 252, loss: x 3.857753, y 2.241547, w 4.619479, h 8.439746, conf 5480.581543, cls 20.870281, total 5520.610352\n",
      "64: nGT 2, recall 0, proposals 0, loss: x 0.036912, y 0.064031, w 0.013032, h 0.015172, conf 5335.533691, cls 1.168513, total 5336.831543\n",
      "96: nGT 38, recall 5, proposals 0, loss: x 2.252197, y 1.720590, w 2.337461, h 3.975383, conf 5030.754883, cls 20.515177, total 5061.555664\n",
      "128: nGT 61, recall 0, proposals 0, loss: x 4.431842, y 3.156400, w 5.326367, h 4.721647, conf 4739.954590, cls 30.087606, total 4787.678223\n",
      "160: nGT 17, recall 0, proposals 0, loss: x 0.815620, y 0.899259, w 2.320006, h 3.530380, conf 4774.967285, cls 7.256791, total 4789.789062\n",
      "192: nGT 45, recall 2, proposals 0, loss: x 2.746162, y 1.687702, w 3.570370, h 5.648969, conf 4398.075684, cls 17.174248, total 4428.903320\n",
      "224: nGT 42, recall 2, proposals 0, loss: x 3.251583, y 1.546593, w 3.483352, h 3.593180, conf 3997.609375, cls 20.111374, total 4029.595459\n",
      "256: nGT 132, recall 3, proposals 0, loss: x 9.892357, y 6.176997, w 7.617805, h 11.836748, conf 3753.774902, cls 52.972153, total 3842.270996\n",
      "288: nGT 67, recall 8, proposals 0, loss: x 3.032990, y 2.874954, w 2.178472, h 5.104774, conf 3475.037109, cls 28.093700, total 3516.322021\n",
      "320: nGT 128, recall 4, proposals 0, loss: x 8.890853, y 6.152460, w 4.507464, h 6.618049, conf 3309.013428, cls 43.274250, total 3378.456543\n",
      "352: nGT 30, recall 0, proposals 0, loss: x 2.688605, y 1.544857, w 0.859443, h 1.495307, conf 3392.035400, cls 7.243420, total 3405.866943\n",
      "384: nGT 168, recall 3, proposals 0, loss: x 10.985542, y 7.221125, w 9.508739, h 14.631063, conf 2906.123535, cls 54.041237, total 3002.511475\n",
      "416: nGT 50, recall 3, proposals 0, loss: x 3.404189, y 1.884826, w 0.466774, h 1.708231, conf 2798.873291, cls 14.446935, total 2820.784424\n",
      "448: nGT 68, recall 3, proposals 0, loss: x 4.572867, y 3.257494, w 1.689847, h 2.828158, conf 2823.758789, cls 18.719252, total 2854.826416\n",
      "480: nGT 82, recall 8, proposals 0, loss: x 5.168533, y 3.369220, w 5.233539, h 6.480369, conf 2539.152832, cls 25.417459, total 2584.822266\n",
      "512: nGT 38, recall 2, proposals 0, loss: x 2.488738, y 2.178839, w 2.346378, h 3.097631, conf 2597.045410, cls 15.175079, total 2622.332031\n",
      "544: nGT 21, recall 2, proposals 254, loss: x 0.725269, y 0.877585, w 0.180686, h 0.909387, conf 2751.580811, cls 6.032271, total 2760.305908\n",
      "576: nGT 47, recall 1, proposals 0, loss: x 2.494955, y 1.722862, w 4.650698, h 6.384965, conf 2327.350098, cls 13.866829, total 2356.470459\n",
      "608: nGT 27, recall 0, proposals 0, loss: x 1.105719, y 1.422217, w 2.345741, h 3.399686, conf 2272.273926, cls 9.281047, total 2289.828125\n",
      "640: nGT 32, recall 0, proposals 0, loss: x 1.699494, y 1.269303, w 4.214799, h 6.026918, conf 2365.563477, cls 12.263856, total 2391.037842\n",
      "672: nGT 20, recall 0, proposals 0, loss: x 1.460775, y 0.831069, w 0.576074, h 0.903950, conf 2165.587402, cls 4.655684, total 2174.015137\n",
      "704: nGT 23, recall 1, proposals 0, loss: x 1.380164, y 1.362684, w 0.412953, h 0.833576, conf 2144.710205, cls 5.441696, total 2154.141113\n",
      "736: nGT 83, recall 1, proposals 0, loss: x 4.342888, y 2.990120, w 3.133715, h 4.350096, conf 2238.855957, cls 23.969616, total 2277.642578\n",
      "768: nGT 47, recall 1, proposals 0, loss: x 3.480713, y 1.973258, w 1.814938, h 4.018101, conf 1932.749390, cls 11.952637, total 1955.989014\n",
      "800: nGT 56, recall 1, proposals 0, loss: x 3.994248, y 2.707167, w 1.292551, h 2.427382, conf 1813.691528, cls 14.042945, total 1838.155884\n",
      "832: nGT 37, recall 1, proposals 0, loss: x 2.397449, y 1.873850, w 0.633207, h 2.153224, conf 2010.708130, cls 5.681551, total 2023.447266\n",
      "864: nGT 59, recall 3, proposals 0, loss: x 3.107328, y 2.612271, w 2.850465, h 4.111862, conf 1854.241821, cls 15.377625, total 1882.301270\n",
      "896: nGT 47, recall 2, proposals 0, loss: x 2.624922, y 2.068912, w 0.928481, h 1.453806, conf 1723.244385, cls 12.144457, total 1742.464966\n",
      "928: nGT 80, recall 5, proposals 75, loss: x 4.028202, y 3.778198, w 3.064432, h 4.690289, conf 1827.370972, cls 22.111502, total 1865.043579\n",
      "960: nGT 58, recall 5, proposals 254, loss: x 3.056974, y 2.745237, w 0.917084, h 0.933058, conf 1655.709717, cls 12.926040, total 1676.288208\n",
      "992: nGT 49, recall 1, proposals 0, loss: x 3.317980, y 1.577730, w 4.250082, h 5.791687, conf 1625.680420, cls 13.979984, total 1654.598022\n",
      "1024: nGT 25, recall 1, proposals 0, loss: x 1.216901, y 1.149839, w 2.254825, h 3.093095, conf 1671.550049, cls 6.499871, total 1685.764648\n",
      "1056: nGT 30, recall 2, proposals 0, loss: x 1.626501, y 1.467435, w 2.848742, h 3.303919, conf 1476.217163, cls 8.247718, total 1493.711548\n",
      "1088: nGT 17, recall 1, proposals 0, loss: x 0.798276, y 0.545220, w 0.381595, h 0.434109, conf 1464.523560, cls 4.540956, total 1471.223755\n",
      "1120: nGT 74, recall 4, proposals 0, loss: x 3.844111, y 3.808149, w 2.906830, h 4.141547, conf 1508.382812, cls 18.425888, total 1541.509399\n",
      "1152: nGT 92, recall 2, proposals 215, loss: x 5.962234, y 4.701280, w 3.085079, h 4.806684, conf 1397.311646, cls 17.902155, total 1433.769043\n",
      "1184: nGT 119, recall 0, proposals 0, loss: x 6.792223, y 5.501510, w 2.521367, h 5.457887, conf 1355.599365, cls 25.295712, total 1401.167969\n",
      "1216: nGT 26, recall 5, proposals 250, loss: x 1.484854, y 1.362647, w 0.079825, h 0.775555, conf 1452.376587, cls 3.647268, total 1459.726685\n",
      "1248: nGT 117, recall 10, proposals 0, loss: x 6.130513, y 5.326101, w 5.139446, h 7.392529, conf 1252.096191, cls 29.001989, total 1305.086792\n",
      "1280: nGT 17, recall 1, proposals 0, loss: x 0.805981, y 0.823158, w 0.277803, h 0.464915, conf 1241.062622, cls 2.275353, total 1245.709961\n",
      "1312: nGT 17, recall 3, proposals 245, loss: x 0.809515, y 0.508996, w 2.473296, h 2.945279, conf 1331.031006, cls 4.776567, total 1342.544678\n",
      "1344: nGT 39, recall 3, proposals 0, loss: x 1.637770, y 1.760019, w 4.291781, h 5.829035, conf 1210.070923, cls 13.307226, total 1236.896729\n",
      "1376: nGT 87, recall 6, proposals 200, loss: x 5.635888, y 4.676826, w 4.956078, h 6.643700, conf 1135.011597, cls 22.994118, total 1179.918213\n",
      "1408: nGT 93, recall 15, proposals 0, loss: x 4.682333, y 4.891092, w 3.096416, h 3.705599, conf 1259.213135, cls 17.561047, total 1293.149658\n",
      "1440: nGT 30, recall 2, proposals 0, loss: x 2.055179, y 1.371206, w 0.576355, h 0.432182, conf 1102.604126, cls 4.343814, total 1111.382812\n",
      "1472: nGT 33, recall 5, proposals 0, loss: x 2.086873, y 1.623166, w 2.501032, h 3.009914, conf 1057.460815, cls 9.953759, total 1076.635498\n",
      "1504: nGT 68, recall 7, proposals 27, loss: x 4.242765, y 3.749261, w 4.158171, h 6.038270, conf 1169.718506, cls 12.566403, total 1200.473511\n",
      "1536: nGT 56, recall 7, proposals 0, loss: x 3.071657, y 3.079207, w 0.674848, h 0.545717, conf 996.638000, cls 7.357464, total 1011.366943\n",
      "1568: nGT 119, recall 20, proposals 251, loss: x 6.562559, y 5.842881, w 1.292791, h 0.955820, conf 990.025574, cls 18.438818, total 1023.118469\n",
      "1600: nGT 149, recall 18, proposals 0, loss: x 6.774481, y 6.790467, w 3.307361, h 3.690090, conf 1087.198242, cls 24.607748, total 1132.368408\n",
      "1632: nGT 162, recall 39, proposals 118, loss: x 8.400419, y 6.828055, w 5.854349, h 6.425760, conf 921.749023, cls 29.186974, total 978.444580\n",
      "1664: nGT 81, recall 14, proposals 0, loss: x 4.140456, y 4.555095, w 2.812772, h 3.411247, conf 930.546509, cls 8.431171, total 953.897217\n",
      "1696: nGT 87, recall 16, proposals 0, loss: x 4.144853, y 3.745467, w 3.391394, h 6.015275, conf 934.914917, cls 13.377368, total 965.589294\n",
      "1728: nGT 84, recall 13, proposals 45, loss: x 4.212948, y 4.749217, w 0.716520, h 0.300885, conf 900.645508, cls 9.984921, total 920.609985\n",
      "1760: nGT 28, recall 5, proposals 0, loss: x 1.741334, y 1.523555, w 1.703811, h 2.952771, conf 894.171265, cls 4.320259, total 906.412964\n",
      "1792: nGT 52, recall 11, proposals 11, loss: x 1.478244, y 3.113837, w 0.134040, h 0.219091, conf 961.258789, cls 6.757063, total 972.961121\n",
      "1824: nGT 70, recall 10, proposals 0, loss: x 3.288561, y 3.261069, w 4.660723, h 5.948702, conf 803.722229, cls 14.075078, total 834.956360\n",
      "1856: nGT 27, recall 3, proposals 0, loss: x 1.268674, y 1.373523, w 1.883109, h 2.939462, conf 793.842102, cls 5.441893, total 806.748779\n",
      "1888: nGT 60, recall 9, proposals 142, loss: x 3.956428, y 2.804542, w 2.826490, h 3.041793, conf 825.472656, cls 10.699351, total 848.801270\n"
     ]
    },
    {
     "name": "stdout",
     "output_type": "stream",
     "text": [
      "1920: nGT 39, recall 7, proposals 0, loss: x 1.553401, y 1.388116, w 2.185823, h 2.969480, conf 763.984375, cls 9.597995, total 781.679260\n",
      "1952: nGT 35, recall 10, proposals 170, loss: x 1.639328, y 1.328678, w 4.890078, h 5.783172, conf 738.799988, cls 8.287042, total 760.728271\n",
      "1984: nGT 29, recall 5, proposals 0, loss: x 1.435497, y 1.566579, w 2.089177, h 2.923740, conf 800.725159, cls 5.061961, total 813.802124\n",
      "2016: nGT 34, recall 8, proposals 200, loss: x 1.551136, y 1.821948, w 0.354411, h 0.210846, conf 718.325134, cls 3.429342, total 725.692871\n",
      "2048: nGT 77, recall 18, proposals 0, loss: x 3.504767, y 3.214111, w 0.782187, h 3.207321, conf 686.957642, cls 9.964567, total 707.630554\n",
      "2080: nGT 29, recall 5, proposals 0, loss: x 1.355874, y 1.170250, w 3.565257, h 5.804124, conf 715.075378, cls 8.537374, total 735.508240\n",
      "2112: nGT 34, recall 7, proposals 50, loss: x 1.623473, y 1.231241, w 0.389604, h 0.133001, conf 672.380798, cls 5.578222, total 681.336365\n",
      "2144: nGT 72, recall 13, proposals 0, loss: x 3.538124, y 2.628181, w 2.837260, h 3.126244, conf 644.908081, cls 10.313522, total 667.351440\n",
      "2176: nGT 33, recall 4, proposals 241, loss: x 2.119647, y 1.612419, w 1.927615, h 2.943449, conf 688.064636, cls 4.886194, total 701.553894\n",
      "2208: nGT 45, recall 10, proposals 0, loss: x 2.216416, y 2.269629, w 2.305850, h 3.059482, conf 615.896362, cls 7.874474, total 633.622192\n",
      "2240: nGT 32, recall 6, proposals 79, loss: x 1.439093, y 1.555229, w 0.334912, h 0.095811, conf 584.720459, cls 4.552889, total 592.698425\n",
      "2272: nGT 15, recall 3, proposals 0, loss: x 0.903781, y 0.575190, w 1.834037, h 2.889091, conf 623.008118, cls 3.651125, total 632.861328\n",
      "2304: nGT 63, recall 15, proposals 80, loss: x 2.279387, y 2.978343, w 3.998061, h 5.931047, conf 595.040466, cls 10.515658, total 620.742981\n",
      "2336: nGT 81, recall 17, proposals 0, loss: x 3.450201, y 3.662109, w 0.449645, h 0.228477, conf 566.845093, cls 6.557159, total 581.192627\n",
      "2368: nGT 107, recall 21, proposals 231, loss: x 4.948699, y 3.976529, w 4.066117, h 6.082291, conf 581.167908, cls 12.622667, total 612.864197\n",
      "2400: nGT 58, recall 12, proposals 0, loss: x 3.139051, y 1.961740, w 2.040451, h 3.027008, conf 536.793579, cls 7.333403, total 554.295166\n",
      "2432: nGT 84, recall 18, proposals 0, loss: x 3.540005, y 3.047560, w 2.313609, h 3.044759, conf 529.094727, cls 10.546853, total 551.587524\n",
      "2464: nGT 48, recall 9, proposals 128, loss: x 2.508353, y 2.238733, w 1.751899, h 3.002028, conf 548.503418, cls 5.386239, total 563.390625\n",
      "2496: nGT 30, recall 7, proposals 0, loss: x 1.295117, y 1.588277, w 1.955155, h 2.979352, conf 481.269409, cls 4.538514, total 493.625824\n",
      "2528: nGT 64, recall 13, proposals 160, loss: x 2.597262, y 2.438776, w 0.570332, h 0.121822, conf 479.209839, cls 7.756829, total 492.694885\n",
      "2560: nGT 91, recall 14, proposals 242, loss: x 4.492486, y 4.693202, w 4.638082, h 5.972974, conf 515.457397, cls 15.173325, total 550.427429\n",
      "2592: nGT 58, recall 12, proposals 24, loss: x 2.045124, y 2.692225, w 2.903890, h 3.012870, conf 468.123138, cls 9.619770, total 488.397034\n",
      "2624: nGT 72, recall 10, proposals 245, loss: x 3.345014, y 3.486070, w 3.732714, h 5.925764, conf 439.577637, cls 10.186701, total 466.253906\n",
      "2656: nGT 103, recall 16, proposals 223, loss: x 5.258566, y 4.342219, w 2.187481, h 3.034719, conf 462.254944, cls 7.695018, total 484.772919\n",
      "2688: nGT 54, recall 9, proposals 247, loss: x 2.584177, y 2.307651, w 0.223282, h 0.101951, conf 423.151825, cls 2.432726, total 430.801636\n",
      "2720: nGT 71, recall 12, proposals 218, loss: x 3.290072, y 3.092423, w 5.393994, h 8.855655, conf 415.202667, cls 13.604818, total 449.439636\n",
      "2752: nGT 52, recall 12, proposals 0, loss: x 1.806554, y 2.337605, w 0.121752, h 0.147427, conf 444.920441, cls 2.255892, total 451.589691\n",
      "2784: nGT 58, recall 9, proposals 70, loss: x 2.700871, y 2.672236, w 0.312330, h 0.115795, conf 392.989716, cls 2.330495, total 401.121429\n",
      "2816: nGT 50, recall 9, proposals 246, loss: x 2.141690, y 2.268573, w 0.374987, h 0.104730, conf 387.562988, cls 4.867870, total 397.320831\n",
      "2848: nGT 43, recall 6, proposals 104, loss: x 1.979952, y 1.947000, w 4.468412, h 5.926322, conf 392.125244, cls 7.417083, total 413.864014\n",
      "2880: nGT 44, recall 10, proposals 243, loss: x 1.795612, y 2.382202, w 2.119901, h 2.995787, conf 371.594910, cls 5.320527, total 386.208954\n",
      "2912: nGT 65, recall 18, proposals 72, loss: x 2.846821, y 2.313131, w 2.040684, h 3.051017, conf 364.138184, cls 6.111259, total 380.501099\n",
      "2944: nGT 114, recall 24, proposals 27, loss: x 5.303704, y 4.284770, w 2.589870, h 3.086147, conf 403.024200, cls 11.291712, total 429.580414\n",
      "2976: nGT 91, recall 12, proposals 30, loss: x 4.389586, y 3.874986, w 2.278687, h 3.084496, conf 344.775848, cls 7.798602, total 366.202209\n",
      "3008: nGT 39, recall 10, proposals 212, loss: x 1.796576, y 1.100787, w 2.604584, h 3.005791, conf 331.177948, cls 6.639848, total 346.325562\n",
      "3040: nGT 20, recall 2, proposals 174, loss: x 0.709214, y 0.679360, w 0.145685, h 0.083590, conf 339.251312, cls 4.645769, total 345.514954\n",
      "3072: nGT 30, recall 5, proposals 169, loss: x 1.163742, y 1.385349, w 4.823597, h 5.930926, conf 320.618622, cls 7.052066, total 340.974335\n",
      "3104: nGT 16, recall 3, proposals 14, loss: x 0.700520, y 0.935604, w 0.045658, h 0.027415, conf 303.718079, cls 0.645223, total 306.072479\n",
      "3136: nGT 49, recall 12, proposals 47, loss: x 1.457745, y 2.224286, w 6.481966, h 8.884168, conf 323.906372, cls 14.217536, total 357.172058\n",
      "3168: nGT 74, recall 17, proposals 148, loss: x 3.293991, y 2.772109, w 0.361267, h 0.096652, conf 309.379883, cls 4.875851, total 320.779755\n",
      "3200: nGT 19, recall 1, proposals 191, loss: x 0.791044, y 0.872559, w 0.060806, h 0.029693, conf 292.131866, cls 0.789748, total 294.675690\n",
      "3232: nGT 57, recall 9, proposals 232, loss: x 1.961036, y 2.527685, w 4.138541, h 5.923903, conf 295.616180, cls 8.645479, total 318.812805\n",
      "3264: nGT 55, recall 9, proposals 183, loss: x 2.131592, y 2.403299, w 2.898379, h 3.013686, conf 281.313477, cls 6.981477, total 298.741882\n",
      "3296: nGT 63, recall 16, proposals 49, loss: x 2.464695, y 2.272014, w 1.854344, h 3.025200, conf 282.082428, cls 6.212440, total 297.911102\n",
      "3328: nGT 15, recall 2, proposals 122, loss: x 0.455698, y 0.699039, w 1.801062, h 2.909771, conf 265.824951, cls 3.189828, total 274.880310\n",
      "3360: nGT 73, recall 11, proposals 167, loss: x 2.953939, y 3.287591, w 2.617846, h 3.045526, conf 265.914124, cls 8.779435, total 286.598480\n",
      "3392: nGT 82, recall 20, proposals 90, loss: x 3.237344, y 3.619920, w 4.555323, h 5.994712, conf 259.130737, cls 11.319350, total 287.857391\n",
      "3424: nGT 64, recall 9, proposals 140, loss: x 2.532730, y 3.281820, w 1.984583, h 3.006099, conf 256.868408, cls 5.580358, total 273.253998\n",
      "3456: nGT 24, recall 2, proposals 130, loss: x 0.759841, y 1.135313, w 0.195089, h 0.057256, conf 245.484482, cls 1.979180, total 249.611160\n",
      "3488: nGT 37, recall 4, proposals 221, loss: x 2.204557, y 2.006396, w 1.988051, h 2.979713, conf 235.788834, cls 5.473095, total 250.440643\n",
      "3520: nGT 33, recall 9, proposals 142, loss: x 1.230714, y 1.394267, w 2.243960, h 2.980042, conf 233.065857, cls 5.654500, total 246.569336\n",
      "3552: nGT 39, recall 13, proposals 161, loss: x 1.675692, y 1.940629, w 1.925685, h 3.001786, conf 227.751602, cls 5.278699, total 241.574097\n",
      "3584: nGT 31, recall 5, proposals 69, loss: x 1.346669, y 1.214133, w 1.981004, h 2.571685, conf 213.351883, cls 4.502302, total 224.967682\n",
      "3616: nGT 41, recall 16, proposals 160, loss: x 1.446323, y 1.659260, w 3.451238, h 5.857523, conf 235.987640, cls 7.878362, total 256.280334\n",
      "3648: nGT 29, recall 6, proposals 99, loss: x 1.197517, y 1.048403, w 2.160452, h 2.938321, conf 202.644180, cls 3.981015, total 213.969894\n",
      "3680: nGT 51, recall 11, proposals 150, loss: x 2.739619, y 2.318736, w 0.389710, h 0.125902, conf 201.616241, cls 5.301398, total 212.491592\n",
      "3712: nGT 69, recall 16, proposals 66, loss: x 2.710693, y 2.572057, w 3.476104, h 5.567285, conf 206.164978, cls 8.184700, total 228.675812\n",
      "3744: nGT 55, recall 9, proposals 101, loss: x 2.134747, y 2.537163, w 3.850801, h 5.844942, conf 199.789917, cls 8.431105, total 222.588669\n",
      "3776: nGT 14, recall 4, proposals 40, loss: x 0.635083, y 0.488400, w 2.355287, h 2.851004, conf 182.024033, cls 4.572684, total 192.926483\n",
      "3808: nGT 38, recall 14, proposals 105, loss: x 1.096433, y 1.488823, w 2.010480, h 2.937450, conf 191.669037, cls 5.859147, total 205.061371\n"
     ]
    },
    {
     "name": "stdout",
     "output_type": "stream",
     "text": [
      "3840: nGT 43, recall 11, proposals 39, loss: x 1.415970, y 1.416025, w 2.426932, h 2.995872, conf 181.300674, cls 5.280903, total 194.836365\n",
      "3872: nGT 45, recall 4, proposals 181, loss: x 1.777800, y 2.090364, w 4.287316, h 5.790987, conf 170.802475, cls 9.305526, total 194.054474\n",
      "3904: nGT 48, recall 6, proposals 69, loss: x 2.517243, y 2.160517, w 2.230453, h 2.843032, conf 182.261276, cls 4.938099, total 196.950623\n",
      "3936: nGT 28, recall 7, proposals 157, loss: x 0.826931, y 1.166504, w 1.673403, h 2.879359, conf 161.307968, cls 3.661773, total 171.515945\n",
      "3968: nGT 73, recall 16, proposals 97, loss: x 2.577170, y 2.660355, w 2.082121, h 3.120872, conf 165.095261, cls 5.640967, total 181.176743\n",
      "4000: nGT 48, recall 14, proposals 39, loss: x 1.525851, y 1.573524, w 0.178851, h 0.093909, conf 165.994858, cls 2.958080, total 172.325073\n",
      "4032: nGT 75, recall 14, proposals 11, loss: x 2.797562, y 2.988536, w 2.321107, h 3.120786, conf 160.367584, cls 5.318141, total 176.913727\n",
      "4064: nGT 205, recall 41, proposals 93, loss: x 6.617080, y 7.932278, w 4.033357, h 6.564452, conf 184.285599, cls 13.688643, total 223.121414\n",
      "4096: nGT 81, recall 19, proposals 252, loss: x 3.262329, y 2.909785, w 0.345408, h 0.170223, conf 159.868332, cls 4.859486, total 171.415573\n",
      "4128: nGT 43, recall 11, proposals 116, loss: x 1.493267, y 1.426924, w 2.131423, h 3.389357, conf 142.878311, cls 7.493265, total 158.812561\n",
      "4160: nGT 75, recall 15, proposals 238, loss: x 2.875837, y 3.016517, w 4.231112, h 5.999413, conf 138.445114, cls 8.385962, total 162.953949\n",
      "4192: nGT 84, recall 17, proposals 243, loss: x 3.075462, y 3.765134, w 0.255578, h 0.210022, conf 148.898453, cls 1.951736, total 158.156387\n",
      "4224: nGT 38, recall 7, proposals 63, loss: x 1.240826, y 1.622580, w 2.109511, h 2.946477, conf 126.088608, cls 5.733552, total 139.741547\n",
      "4256: nGT 37, recall 11, proposals 122, loss: x 1.528275, y 1.274128, w 3.965310, h 5.366389, conf 125.050804, cls 7.470505, total 144.655426\n",
      "4288: nGT 80, recall 15, proposals 241, loss: x 2.526386, y 2.320806, w 4.295880, h 5.935863, conf 134.597229, cls 8.389610, total 158.065796\n",
      "4320: nGT 26, recall 6, proposals 210, loss: x 1.248534, y 0.776496, w 0.060552, h 0.104459, conf 116.409035, cls 0.713889, total 119.312973\n",
      "4352: nGT 56, recall 16, proposals 10, loss: x 1.802175, y 1.781789, w 3.676991, h 5.460055, conf 121.874901, cls 7.580874, total 142.176773\n",
      "4384: nGT 39, recall 10, proposals 159, loss: x 1.153025, y 1.495526, w 0.111927, h 0.186818, conf 115.525063, cls 1.240594, total 119.712952\n",
      "4416: nGT 60, recall 17, proposals 153, loss: x 2.096730, y 1.717740, w 4.107241, h 5.704935, conf 111.676331, cls 9.524517, total 134.827484\n",
      "4448: nGT 106, recall 30, proposals 197, loss: x 3.517904, y 4.053034, w 1.993880, h 3.178670, conf 117.051735, cls 9.649962, total 139.445190\n",
      "4480: nGT 97, recall 25, proposals 161, loss: x 2.890524, y 3.299777, w 2.526554, h 3.541410, conf 119.651535, cls 4.582211, total 136.492020\n",
      "4512: nGT 70, recall 14, proposals 116, loss: x 2.110760, y 2.457068, w 2.304842, h 3.241485, conf 109.170708, cls 4.872294, total 124.157150\n",
      "4544: nGT 228, recall 69, proposals 222, loss: x 6.582714, y 7.696538, w 4.119527, h 6.576917, conf 137.431625, cls 17.912865, total 180.320190\n",
      "4576: nGT 89, recall 23, proposals 147, loss: x 2.619258, y 3.003515, w 0.389515, h 0.367718, conf 112.539619, cls 3.538913, total 122.458527\n",
      "4608: nGT 53, recall 13, proposals 169, loss: x 1.858781, y 1.848250, w 2.218376, h 2.926683, conf 95.736877, cls 4.191174, total 108.780144\n",
      "4640: nGT 53, recall 16, proposals 148, loss: x 1.692055, y 1.451889, w 5.978874, h 8.084652, conf 93.585136, cls 9.982222, total 120.774826\n",
      "4672: nGT 49, recall 11, proposals 81, loss: x 1.142701, y 1.294410, w 0.330414, h 0.570552, conf 104.513275, cls 1.156381, total 109.007729\n",
      "4704: nGT 85, recall 31, proposals 210, loss: x 2.256255, y 2.489306, w 2.114126, h 3.482428, conf 95.721992, cls 5.456197, total 111.520309\n",
      "4736: nGT 67, recall 27, proposals 237, loss: x 1.381711, y 2.069694, w 1.796597, h 2.904790, conf 88.164093, cls 4.075817, total 100.392700\n",
      "4768: nGT 56, recall 12, proposals 208, loss: x 1.459846, y 1.913414, w 4.130525, h 5.788576, conf 91.343071, cls 7.616739, total 112.252167\n",
      "4800: nGT 51, recall 16, proposals 169, loss: x 1.275015, y 1.183696, w 0.233592, h 0.371500, conf 84.649757, cls 1.669913, total 89.383469\n",
      "4832: nGT 135, recall 48, proposals 143, loss: x 3.627957, y 3.834015, w 0.372673, h 0.483019, conf 89.547134, cls 2.829584, total 100.694382\n",
      "4864: nGT 112, recall 23, proposals 84, loss: x 2.828994, y 3.288805, w 6.030588, h 10.709691, conf 90.497070, cls 12.811243, total 126.166389\n",
      "4896: nGT 72, recall 28, proposals 136, loss: x 1.963410, y 1.798705, w 0.357465, h 0.486498, conf 81.488449, cls 1.105229, total 87.199760\n",
      "4928: nGT 52, recall 20, proposals 128, loss: x 1.270421, y 1.227329, w 2.375209, h 2.890957, conf 72.760902, cls 4.204010, total 84.728828\n",
      "4960: nGT 42, recall 10, proposals 175, loss: x 1.026058, y 1.142033, w 2.148661, h 3.056560, conf 71.486343, cls 3.591617, total 82.451263\n",
      "4992: nGT 40, recall 14, proposals 158, loss: x 1.201421, y 1.541768, w 2.189250, h 2.864489, conf 64.072281, cls 3.475763, total 75.344963\n",
      "5024: nGT 43, recall 20, proposals 58, loss: x 0.953997, y 1.206268, w 2.081858, h 2.808246, conf 67.038254, cls 3.512720, total 77.601334\n",
      "5056: nGT 40, recall 9, proposals 83, loss: x 1.062854, y 1.261980, w 3.640450, h 5.354671, conf 72.940544, cls 5.809992, total 90.070488\n",
      "5088: nGT 45, recall 18, proposals 81, loss: x 1.007463, y 1.337216, w 0.213268, h 0.329240, conf 62.503384, cls 1.216107, total 66.606674\n",
      "5120: nGT 14, recall 8, proposals 47, loss: x 0.285518, y 0.387254, w 0.044981, h 0.017534, conf 55.970448, cls 0.644148, total 57.349884\n",
      "5152: nGT 40, recall 15, proposals 233, loss: x 0.968449, y 1.021141, w 4.345511, h 5.169427, conf 62.470341, cls 6.829526, total 80.804398\n",
      "5184: nGT 28, recall 10, proposals 92, loss: x 0.874408, y 0.700665, w 4.141428, h 5.206074, conf 55.309841, cls 6.342165, total 72.574577\n",
      "5216: nGT 60, recall 20, proposals 140, loss: x 1.536521, y 2.268459, w 6.638654, h 8.621050, conf 60.316299, cls 10.833316, total 90.214294\n",
      "5248: nGT 22, recall 6, proposals 207, loss: x 0.597790, y 0.678089, w 0.073245, h 0.209657, conf 55.874920, cls 0.802900, total 58.236599\n",
      "5280: nGT 29, recall 10, proposals 66, loss: x 0.753414, y 0.859145, w 0.114796, h 0.104152, conf 50.424625, cls 0.527562, total 52.783695\n",
      "5312: nGT 159, recall 54, proposals 27, loss: x 3.892830, y 5.140849, w 0.618502, h 0.705177, conf 68.931808, cls 3.959364, total 83.248528\n",
      "5344: nGT 128, recall 59, proposals 127, loss: x 2.837998, y 2.829079, w 2.810426, h 6.023469, conf 75.838661, cls 7.827738, total 98.167366\n",
      "5376: nGT 56, recall 23, proposals 99, loss: x 1.112958, y 1.700015, w 2.634501, h 2.884138, conf 54.391315, cls 3.823386, total 66.546318\n",
      "5408: nGT 86, recall 43, proposals 219, loss: x 1.737072, y 2.040298, w 1.798025, h 2.860149, conf 55.527168, cls 3.929672, total 67.892380\n",
      "5440: nGT 85, recall 26, proposals 103, loss: x 1.638992, y 2.175958, w 1.744077, h 3.208534, conf 60.551537, cls 3.645280, total 72.964378\n",
      "5472: nGT 66, recall 26, proposals 84, loss: x 1.066327, y 1.849743, w 2.316179, h 2.810979, conf 51.810581, cls 4.181942, total 64.035751\n",
      "5504: nGT 68, recall 30, proposals 166, loss: x 1.667787, y 2.009303, w 1.896698, h 2.696601, conf 46.804844, cls 3.903320, total 58.978554\n",
      "5536: nGT 25, recall 10, proposals 142, loss: x 0.275085, y 0.774644, w 3.263443, h 3.038575, conf 45.192177, cls 5.768500, total 58.312424\n",
      "5568: nGT 15, recall 4, proposals 24, loss: x 0.365073, y 0.382067, w 1.970244, h 2.513602, conf 39.056736, cls 2.857756, total 47.145481\n",
      "5600: nGT 47, recall 24, proposals 71, loss: x 0.875807, y 1.219917, w 4.977090, h 7.048584, conf 42.592976, cls 7.460198, total 64.174568\n",
      "5632: nGT 30, recall 9, proposals 68, loss: x 0.625632, y 0.657321, w 0.407593, h 0.946030, conf 41.599926, cls 4.561034, total 48.797535\n",
      "5664: nGT 29, recall 10, proposals 62, loss: x 0.864176, y 0.707434, w 0.235506, h 0.290541, conf 36.523087, cls 0.490018, total 39.110760\n",
      "5696: nGT 51, recall 19, proposals 125, loss: x 1.085564, y 1.260639, w 2.027247, h 2.660853, conf 38.839916, cls 3.785458, total 49.659679\n",
      "5728: nGT 54, recall 16, proposals 176, loss: x 0.928442, y 1.378011, w 2.316949, h 3.157362, conf 45.005203, cls 3.713858, total 56.499825\n"
     ]
    },
    {
     "name": "stdout",
     "output_type": "stream",
     "text": [
      "5760: nGT 69, recall 26, proposals 181, loss: x 1.437999, y 1.558506, w 1.945822, h 3.026169, conf 43.113808, cls 3.932282, total 55.014587\n",
      "5792: nGT 35, recall 15, proposals 194, loss: x 0.576737, y 0.637515, w 2.240313, h 2.526827, conf 39.586376, cls 2.966119, total 48.533886\n",
      "5824: nGT 34, recall 13, proposals 35, loss: x 0.631804, y 1.089966, w 1.837173, h 2.868004, conf 34.235645, cls 5.326208, total 45.988800\n",
      "5856: nGT 32, recall 10, proposals 115, loss: x 0.684738, y 0.911489, w 2.175390, h 2.648088, conf 33.253845, cls 3.406651, total 43.080196\n",
      "5888: nGT 93, recall 43, proposals 175, loss: x 1.724425, y 1.971375, w 3.428775, h 4.677849, conf 40.067795, cls 5.110383, total 56.980602\n",
      "5920: nGT 101, recall 16, proposals 44, loss: x 1.815696, y 2.057302, w 2.477133, h 4.183760, conf 57.659554, cls 2.419251, total 70.612694\n",
      "5952: nGT 80, recall 19, proposals 101, loss: x 1.067650, y 2.211932, w 1.816943, h 3.652598, conf 37.264469, cls 3.064564, total 49.078159\n",
      "5984: nGT 121, recall 63, proposals 191, loss: x 2.141914, y 2.738287, w 0.538104, h 0.733214, conf 45.517242, cls 2.376493, total 54.045254\n",
      "6016: nGT 95, recall 16, proposals 50, loss: x 2.387166, y 2.854539, w 2.184784, h 2.751397, conf 47.114944, cls 3.668630, total 60.961460\n",
      "6048: nGT 124, recall 48, proposals 233, loss: x 2.391531, y 2.874674, w 3.296026, h 5.606227, conf 39.219166, cls 6.413486, total 59.801109\n",
      "6080: nGT 31, recall 11, proposals 176, loss: x 0.570182, y 0.783333, w 3.243287, h 4.698049, conf 30.429455, cls 5.499142, total 45.223446\n",
      "6112: nGT 60, recall 27, proposals 78, loss: x 0.816308, y 1.705966, w 2.172621, h 2.906933, conf 34.317425, cls 3.614218, total 45.533474\n",
      "6144: nGT 26, recall 8, proposals 97, loss: x 0.379011, y 0.638557, w 0.146455, h 0.177304, conf 25.935993, cls 0.536932, total 27.814251\n",
      "6176: nGT 54, recall 26, proposals 86, loss: x 1.013286, y 1.387866, w 1.746890, h 2.498004, conf 26.648745, cls 2.944556, total 36.239349\n",
      "6208: nGT 37, recall 17, proposals 92, loss: x 0.594508, y 0.712544, w 0.209894, h 0.116337, conf 36.210045, cls 0.428990, total 38.272316\n",
      "6240: nGT 101, recall 54, proposals 139, loss: x 1.521559, y 2.153583, w 4.017521, h 5.027026, conf 34.608585, cls 6.194925, total 53.523201\n",
      "6272: nGT 66, recall 29, proposals 138, loss: x 1.026828, y 1.305280, w 3.749809, h 5.959723, conf 28.039574, cls 9.709962, total 49.791176\n",
      "6304: nGT 51, recall 20, proposals 73, loss: x 0.995284, y 1.257071, w 2.477139, h 2.670245, conf 25.730333, cls 2.770400, total 35.900475\n",
      "6336: nGT 54, recall 26, proposals 101, loss: x 1.302812, y 0.967308, w 0.245784, h 0.440665, conf 24.589500, cls 1.009651, total 28.555719\n",
      "6368: nGT 52, recall 23, proposals 114, loss: x 1.024420, y 1.181561, w 0.110756, h 0.153334, conf 28.495930, cls 0.513982, total 31.479982\n",
      "6400: nGT 61, recall 21, proposals 67, loss: x 1.022168, y 1.183070, w 0.492712, h 0.146368, conf 30.715607, cls 0.687843, total 34.247768\n",
      "6432: nGT 99, recall 47, proposals 152, loss: x 1.912032, y 2.325604, w 6.600075, h 9.360714, conf 30.356194, cls 11.016342, total 61.570961\n",
      "6464: nGT 55, recall 36, proposals 139, loss: x 0.780461, y 0.674910, w 0.238690, h 0.367282, conf 24.846691, cls 1.142541, total 28.050575\n",
      "6496: nGT 61, recall 31, proposals 82, loss: x 0.861388, y 1.263148, w 3.501150, h 5.641715, conf 29.937300, cls 7.785770, total 48.990475\n",
      "6528: nGT 70, recall 28, proposals 160, loss: x 1.280109, y 1.264664, w 1.984174, h 2.507159, conf 25.863052, cls 2.776797, total 35.675957\n",
      "6560: nGT 38, recall 24, proposals 74, loss: x 0.556498, y 0.897931, w 1.670670, h 2.222496, conf 21.423277, cls 2.158356, total 28.929228\n",
      "6592: nGT 97, recall 50, proposals 92, loss: x 1.684048, y 2.300845, w 0.297417, h 0.574451, conf 32.848858, cls 0.708326, total 38.413948\n",
      "6624: nGT 79, recall 41, proposals 116, loss: x 1.767108, y 1.735546, w 3.688890, h 4.542531, conf 26.443020, cls 5.315439, total 43.492531\n",
      "6656: nGT 37, recall 14, proposals 70, loss: x 0.591229, y 0.511472, w 0.234644, h 0.576767, conf 18.212318, cls 1.187171, total 21.313602\n",
      "6688: nGT 22, recall 14, proposals 37, loss: x 0.230832, y 0.436693, w 2.100044, h 2.952391, conf 17.776567, cls 4.088843, total 27.585373\n",
      "6720: nGT 67, recall 34, proposals 111, loss: x 0.981805, y 1.424289, w 4.874994, h 6.858536, conf 23.098764, cls 7.587491, total 44.825878\n",
      "6752: nGT 88, recall 25, proposals 228, loss: x 1.448055, y 1.766168, w 0.474752, h 1.341939, conf 30.388350, cls 1.203330, total 36.622593\n",
      "6784: nGT 106, recall 61, proposals 121, loss: x 1.451408, y 2.338739, w 4.225247, h 5.815601, conf 41.829853, cls 12.156382, total 67.817230\n",
      "6816: nGT 106, recall 44, proposals 221, loss: x 1.887465, y 3.082605, w 2.086125, h 2.983465, conf 26.381838, cls 4.070069, total 40.491566\n",
      "6848: nGT 115, recall 63, proposals 215, loss: x 1.709105, y 2.161325, w 3.339082, h 5.462796, conf 26.385885, cls 8.118314, total 47.176506\n",
      "6880: nGT 132, recall 55, proposals 102, loss: x 2.211218, y 2.916449, w 0.666439, h 0.501849, conf 38.454338, cls 1.529332, total 46.279625\n",
      "6912: nGT 95, recall 55, proposals 160, loss: x 1.520697, y 1.954830, w 1.529225, h 2.294992, conf 25.321457, cls 3.690784, total 36.311985\n",
      "6944: nGT 33, recall 18, proposals 89, loss: x 0.460242, y 0.500833, w 1.408185, h 2.076091, conf 13.563200, cls 2.111243, total 20.119795\n",
      "6976: nGT 73, recall 36, proposals 92, loss: x 1.190909, y 1.411227, w 4.162103, h 5.349728, conf 20.963770, cls 4.964344, total 38.042080\n",
      "7008: nGT 46, recall 25, proposals 160, loss: x 0.686284, y 0.934657, w 0.175506, h 0.191843, conf 19.730303, cls 1.135352, total 22.853945\n",
      "7040: nGT 23, recall 8, proposals 54, loss: x 0.656451, y 0.442619, w 0.195223, h 0.296389, conf 14.288586, cls 0.356095, total 16.235361\n",
      "7072: nGT 66, recall 35, proposals 95, loss: x 1.253423, y 1.408549, w 1.868851, h 2.482461, conf 21.845167, cls 2.945232, total 31.803684\n",
      "7104: nGT 228, recall 120, proposals 212, loss: x 3.556403, y 4.818717, w 4.071670, h 6.021570, conf 43.834850, cls 7.192119, total 69.495323\n",
      "7136: nGT 143, recall 54, proposals 44, loss: x 2.490869, y 2.806518, w 1.620424, h 4.003293, conf 31.275171, cls 2.863625, total 45.059895\n",
      "7168: nGT 58, recall 20, proposals 215, loss: x 0.647340, y 1.417994, w 0.187370, h 1.727577, conf 18.412235, cls 0.332082, total 22.724598\n",
      "7200: nGT 104, recall 51, proposals 142, loss: x 1.504292, y 2.184253, w 4.024989, h 5.264954, conf 28.048441, cls 6.019849, total 47.046776\n",
      "7232: nGT 109, recall 58, proposals 227, loss: x 1.347614, y 2.415161, w 0.564380, h 0.853642, conf 26.211443, cls 1.836212, total 33.228451\n",
      "7264: nGT 41, recall 7, proposals 225, loss: x 0.887242, y 0.958489, w 1.354840, h 3.722333, conf 23.516157, cls 3.933372, total 34.372433\n",
      "7296: nGT 50, recall 29, proposals 99, loss: x 0.644918, y 0.868464, w 3.045364, h 4.611771, conf 22.126225, cls 6.243362, total 37.540104\n",
      "7328: nGT 82, recall 59, proposals 125, loss: x 0.662035, y 1.397039, w 1.436670, h 2.087662, conf 19.637104, cls 2.501029, total 27.721539\n",
      "7360: nGT 46, recall 10, proposals 108, loss: x 0.665298, y 1.167759, w 3.772473, h 4.260245, conf 40.429928, cls 2.566400, total 52.862103\n",
      "7392: nGT 72, recall 51, proposals 140, loss: x 0.765846, y 1.111111, w 0.231778, h 0.400598, conf 19.824171, cls 0.797597, total 23.131102\n",
      "7424: nGT 54, recall 42, proposals 101, loss: x 0.522887, y 0.560133, w 1.220016, h 1.879490, conf 16.212465, cls 1.695785, total 22.090778\n",
      "7456: nGT 70, recall 40, proposals 39, loss: x 1.022146, y 1.150679, w 0.361792, h 0.847839, conf 23.441410, cls 2.203708, total 29.027575\n",
      "7488: nGT 95, recall 50, proposals 135, loss: x 1.261983, y 1.912308, w 4.241799, h 6.584031, conf 24.679480, cls 14.833153, total 53.512753\n",
      "7520: nGT 71, recall 47, proposals 154, loss: x 0.972870, y 0.963366, w 2.967790, h 4.447130, conf 19.159325, cls 5.161892, total 33.672371\n",
      "7552: nGT 26, recall 10, proposals 168, loss: x 0.266106, y 0.231126, w 1.346832, h 1.870722, conf 18.689228, cls 0.956206, total 23.360220\n",
      "7584: nGT 57, recall 28, proposals 81, loss: x 0.685798, y 1.324231, w 0.624705, h 1.772822, conf 16.576902, cls 1.908138, total 22.892595\n",
      "7616: nGT 28, recall 14, proposals 72, loss: x 0.335225, y 0.342777, w 1.448501, h 1.640366, conf 11.210995, cls 1.867123, total 16.844986\n",
      "7648: nGT 56, recall 34, proposals 158, loss: x 0.973569, y 0.816791, w 2.596194, h 3.315218, conf 15.420424, cls 2.233853, total 25.356047\n"
     ]
    },
    {
     "name": "stdout",
     "output_type": "stream",
     "text": [
      "7680: nGT 23, recall 10, proposals 53, loss: x 0.362120, y 0.426594, w 1.422411, h 1.970492, conf 9.094753, cls 2.058898, total 15.335267\n",
      "7712: nGT 49, recall 35, proposals 105, loss: x 0.498427, y 0.708386, w 0.169431, h 0.164768, conf 15.076937, cls 0.269713, total 16.887665\n",
      "7744: nGT 98, recall 50, proposals 3, loss: x 1.219351, y 1.836185, w 1.684668, h 1.730373, conf 30.520439, cls 1.609724, total 38.600739\n",
      "7776: nGT 99, recall 66, proposals 148, loss: x 1.157571, y 1.155651, w 3.371241, h 4.161951, conf 26.523970, cls 3.870842, total 40.241226\n",
      "7808: nGT 73, recall 40, proposals 197, loss: x 0.877757, y 1.326386, w 1.377524, h 2.028949, conf 19.816805, cls 2.538931, total 27.966351\n",
      "7840: nGT 30, recall 20, proposals 89, loss: x 0.217986, y 0.275279, w 0.125922, h 0.147542, conf 11.414168, cls 0.084523, total 12.265420\n",
      "7872: nGT 27, recall 15, proposals 39, loss: x 0.251144, y 0.560044, w 3.084918, h 3.427526, conf 9.895715, cls 4.137884, total 21.357233\n",
      "7904: nGT 15, recall 10, proposals 26, loss: x 0.237114, y 0.307188, w 1.991218, h 2.802510, conf 6.224267, cls 4.134194, total 15.696491\n",
      "7936: nGT 54, recall 27, proposals 131, loss: x 1.135935, y 1.020362, w 1.432414, h 1.912125, conf 14.748861, cls 1.971313, total 22.221010\n",
      "7968: nGT 65, recall 47, proposals 146, loss: x 0.716903, y 0.720654, w 1.231661, h 1.850494, conf 15.303104, cls 1.532920, total 21.355738\n",
      "8000: nGT 135, recall 87, proposals 82, loss: x 1.535162, y 2.185840, w 2.837679, h 3.244306, conf 31.048140, cls 2.627408, total 43.478531\n",
      "8032: nGT 116, recall 71, proposals 139, loss: x 1.393775, y 2.027061, w 0.943675, h 1.317335, conf 29.790783, cls 1.793748, total 37.266376\n",
      "8064: nGT 108, recall 89, proposals 226, loss: x 0.813891, y 1.011389, w 1.241886, h 1.682546, conf 19.268621, cls 1.533275, total 25.551607\n",
      "8096: nGT 26, recall 18, proposals 88, loss: x 0.335312, y 0.288842, w 1.257887, h 1.507575, conf 8.339349, cls 1.201823, total 12.930788\n",
      "8128: nGT 42, recall 21, proposals 52, loss: x 0.622950, y 0.686319, w 3.073151, h 4.761616, conf 10.920470, cls 4.962356, total 25.026863\n",
      "8160: nGT 26, recall 19, proposals 86, loss: x 0.239673, y 0.286647, w 0.032705, h 0.115126, conf 9.319847, cls 0.070855, total 10.064855\n",
      "8192: nGT 88, recall 57, proposals 146, loss: x 1.157009, y 1.157945, w 0.251900, h 0.241227, conf 18.859449, cls 0.359657, total 22.027187\n",
      "8224: nGT 173, recall 108, proposals 29, loss: x 2.331746, y 2.986665, w 5.059233, h 5.959105, conf 50.415070, cls 5.096889, total 71.848709\n",
      "8256: nGT 101, recall 66, proposals 194, loss: x 1.199136, y 1.555336, w 0.551506, h 0.731914, conf 22.294247, cls 0.995232, total 27.327372\n",
      "8288: nGT 12, recall 7, proposals 174, loss: x 0.157463, y 0.233474, w 1.287266, h 1.894544, conf 9.909415, cls 1.841784, total 15.323947\n",
      "8320: nGT 21, recall 14, proposals 30, loss: x 0.250516, y 0.339179, w 1.121506, h 1.112388, conf 5.944374, cls 0.803200, total 9.571163\n",
      "8352: nGT 39, recall 26, proposals 93, loss: x 0.505608, y 0.450857, w 1.190899, h 1.680069, conf 11.941857, cls 1.281245, total 17.050535\n",
      "8384: nGT 59, recall 35, proposals 120, loss: x 0.664723, y 0.875599, w 1.262266, h 1.703709, conf 15.011175, cls 1.067183, total 20.584656\n",
      "8416: nGT 42, recall 30, proposals 92, loss: x 0.345206, y 0.272459, w 1.508750, h 1.608796, conf 15.116534, cls 1.039400, total 19.891144\n",
      "8448: nGT 70, recall 45, proposals 149, loss: x 0.568996, y 1.091010, w 1.470879, h 1.379391, conf 16.525276, cls 1.124592, total 22.160143\n",
      "8480: nGT 34, recall 20, proposals 101, loss: x 0.255992, y 0.899480, w 2.196675, h 1.690642, conf 10.556918, cls 1.479935, total 17.079641\n",
      "8512: nGT 15, recall 7, proposals 28, loss: x 0.074217, y 0.162608, w 0.696836, h 1.848271, conf 6.159913, cls 0.630698, total 9.572542\n",
      "8544: nGT 28, recall 16, proposals 68, loss: x 0.384761, y 0.594255, w 0.056985, h 0.099474, conf 7.576677, cls 0.116788, total 8.828939\n",
      "8576: nGT 62, recall 43, proposals 121, loss: x 0.562866, y 0.728408, w 0.224231, h 0.258541, conf 14.290439, cls 0.252193, total 16.316679\n",
      "8608: nGT 88, recall 53, proposals 52, loss: x 1.388337, y 1.245123, w 3.294654, h 4.802114, conf 29.702467, cls 5.790634, total 46.223328\n",
      "8640: nGT 105, recall 64, proposals 174, loss: x 1.067113, y 1.563704, w 1.701299, h 1.535352, conf 22.924007, cls 1.764440, total 30.555916\n",
      "8672: nGT 49, recall 35, proposals 159, loss: x 0.456562, y 0.545072, w 1.836124, h 2.379129, conf 11.002868, cls 1.412632, total 17.632389\n",
      "8704: nGT 20, recall 14, proposals 25, loss: x 0.149865, y 0.139461, w 0.161209, h 0.244200, conf 5.872310, cls 0.038916, total 6.605961\n",
      "8736: nGT 20, recall 16, proposals 59, loss: x 0.209465, y 0.348393, w 0.859753, h 1.164246, conf 7.924294, cls 1.108351, total 11.614502\n",
      "8768: nGT 50, recall 30, proposals 75, loss: x 0.688466, y 0.911804, w 1.499141, h 1.671370, conf 11.637707, cls 1.320293, total 17.728781\n",
      "8800: nGT 26, recall 16, proposals 160, loss: x 0.632649, y 0.306473, w 0.637782, h 0.230742, conf 15.107371, cls 0.204505, total 17.119524\n",
      "8832: nGT 33, recall 27, proposals 54, loss: x 0.280059, y 0.255930, w 0.140405, h 0.172628, conf 6.899939, cls 0.081569, total 7.830529\n",
      "8864: nGT 104, recall 80, proposals 165, loss: x 1.002612, y 1.136393, w 0.649508, h 0.307339, conf 18.951866, cls 0.716761, total 22.764479\n",
      "8896: nGT 170, recall 115, proposals 177, loss: x 1.682347, y 2.378646, w 1.394318, h 1.479325, conf 35.018478, cls 1.326668, total 43.279781\n",
      "8928: nGT 94, recall 72, proposals 194, loss: x 1.047274, y 1.268376, w 0.701713, h 0.450810, conf 23.031471, cls 5.102182, total 31.601826\n",
      "8960: nGT 86, recall 67, proposals 195, loss: x 0.731688, y 1.347877, w 1.616094, h 1.388739, conf 16.486000, cls 1.316660, total 22.887058\n",
      "8992: nGT 34, recall 25, proposals 97, loss: x 0.299473, y 0.466527, w 0.868782, h 1.002733, conf 7.833467, cls 0.991933, total 11.462915\n",
      "9024: nGT 40, recall 28, proposals 79, loss: x 0.433657, y 0.585447, w 0.140371, h 0.180108, conf 8.784915, cls 0.098533, total 10.223031\n",
      "9056: nGT 23, recall 13, proposals 73, loss: x 0.264065, y 0.309189, w 0.575474, h 0.304332, conf 7.875919, cls 0.402333, total 9.731311\n",
      "9088: nGT 52, recall 30, proposals 76, loss: x 0.892253, y 0.600768, w 2.676011, h 3.339623, conf 16.018400, cls 4.894959, total 28.422012\n",
      "9120: nGT 21, recall 16, proposals 53, loss: x 0.098491, y 0.256911, w 0.080092, h 0.074373, conf 6.389432, cls 0.131579, total 7.030878\n",
      "9152: nGT 119, recall 82, proposals 247, loss: x 1.798303, y 1.483259, w 1.134431, h 1.424231, conf 22.517254, cls 1.414169, total 29.771646\n",
      "9184: nGT 60, recall 44, proposals 179, loss: x 1.070205, y 0.811588, w 0.183715, h 0.208336, conf 18.567024, cls 0.162766, total 21.003635\n",
      "9216: nGT 307, recall 198, proposals 168, loss: x 4.197769, y 3.804898, w 4.363526, h 5.627784, conf 62.323715, cls 7.361783, total 87.679482\n",
      "9248: nGT 53, recall 30, proposals 144, loss: x 0.491443, y 1.002998, w 1.409704, h 1.255455, conf 15.295031, cls 1.601332, total 21.055962\n",
      "9280: nGT 82, recall 62, proposals 153, loss: x 0.654002, y 0.893594, w 1.003913, h 1.821942, conf 18.904066, cls 5.304756, total 28.582272\n",
      "9312: nGT 42, recall 28, proposals 106, loss: x 0.534056, y 0.340806, w 0.280149, h 0.363434, conf 10.575796, cls 0.239249, total 12.333490\n",
      "9344: nGT 71, recall 52, proposals 145, loss: x 0.986765, y 0.656476, w 0.207310, h 0.343141, conf 13.328717, cls 0.278734, total 15.801144\n",
      "9376: nGT 38, recall 19, proposals 255, loss: x 0.283801, y 0.571731, w 2.955053, h 3.200370, conf 20.092649, cls 2.894694, total 29.998299\n",
      "9408: nGT 74, recall 46, proposals 150, loss: x 1.075315, y 1.270796, w 0.886227, h 0.780649, conf 9.296409, cls 0.899723, total 14.209118\n",
      "9440: nGT 88, recall 45, proposals 152, loss: x 1.158128, y 1.536879, w 4.347034, h 6.374921, conf 12.853062, cls 6.261067, total 32.531090\n",
      "9472: nGT 41, recall 28, proposals 177, loss: x 0.502607, y 0.706810, w 1.480431, h 2.261499, conf 11.210131, cls 1.895616, total 18.057095\n",
      "9504: nGT 132, recall 91, proposals 236, loss: x 1.234451, y 1.418038, w 0.450156, h 1.044733, conf 27.772997, cls 0.626050, total 32.546425\n",
      "9536: nGT 19, recall 16, proposals 81, loss: x 0.221953, y 0.194934, w 0.243393, h 0.116372, conf 7.377484, cls 0.162582, total 8.316718\n",
      "9568: nGT 45, recall 29, proposals 66, loss: x 0.332396, y 0.764655, w 1.305784, h 1.293167, conf 10.292267, cls 1.203002, total 15.191271\n"
     ]
    },
    {
     "name": "stdout",
     "output_type": "stream",
     "text": [
      "9600: nGT 38, recall 26, proposals 105, loss: x 0.369508, y 0.402495, w 2.448098, h 3.636169, conf 11.283429, cls 6.894949, total 25.034649\n"
     ]
    },
    {
     "ename": "NameError",
     "evalue": "name 'nor_fac' is not defined",
     "output_type": "error",
     "traceback": [
      "\u001b[0;31m---------------------------------------------------------------------------\u001b[0m",
      "\u001b[0;31mNameError\u001b[0m                                 Traceback (most recent call last)",
      "\u001b[0;32m<ipython-input-8-580e5f71d3e3>\u001b[0m in \u001b[0;36m<module>\u001b[0;34m()\u001b[0m\n\u001b[1;32m     41\u001b[0m \u001b[0;34m\u001b[0m\u001b[0m\n\u001b[1;32m     42\u001b[0m         \u001b[0;32mif\u001b[0m \u001b[0;34m(\u001b[0m\u001b[0mi\u001b[0m\u001b[0;34m+\u001b[0m\u001b[0;36m1\u001b[0m\u001b[0;34m)\u001b[0m \u001b[0;34m%\u001b[0m \u001b[0mn_check\u001b[0m \u001b[0;34m==\u001b[0m \u001b[0;36m0\u001b[0m\u001b[0;34m:\u001b[0m\u001b[0;34m\u001b[0m\u001b[0m\n\u001b[0;32m---> 43\u001b[0;31m             \u001b[0mbatch_imgs\u001b[0m \u001b[0;34m=\u001b[0m \u001b[0mnor_fac\u001b[0m \u001b[0;34m*\u001b[0m \u001b[0mpsana_img_loader\u001b[0m\u001b[0;34m(\u001b[0m\u001b[0meventIdxs\u001b[0m\u001b[0;34m,\u001b[0m \u001b[0;36m600\u001b[0m\u001b[0;34m,\u001b[0m \u001b[0;36m10\u001b[0m\u001b[0;34m,\u001b[0m \u001b[0mdet\u001b[0m\u001b[0;34m,\u001b[0m \u001b[0mthis_run\u001b[0m\u001b[0;34m,\u001b[0m \u001b[0mtimes\u001b[0m\u001b[0;34m)\u001b[0m\u001b[0;34m\u001b[0m\u001b[0m\n\u001b[0m\u001b[1;32m     44\u001b[0m             \u001b[0mbatch_labels\u001b[0m \u001b[0;34m=\u001b[0m \u001b[0mlabels\u001b[0m\u001b[0;34m[\u001b[0m\u001b[0;34m(\u001b[0m\u001b[0;36m300\u001b[0m\u001b[0;34m*\u001b[0m\u001b[0mmacro_batch_size\u001b[0m\u001b[0;34m)\u001b[0m\u001b[0;34m:\u001b[0m\u001b[0;34m]\u001b[0m\u001b[0;34m\u001b[0m\u001b[0m\n\u001b[1;32m     45\u001b[0m             \u001b[0;32mprint\u001b[0m\u001b[0;34m(\u001b[0m\u001b[0;34m\"==================== VAL ====================\"\u001b[0m\u001b[0;34m)\u001b[0m\u001b[0;34m\u001b[0m\u001b[0m\n",
      "\u001b[0;31mNameError\u001b[0m: name 'nor_fac' is not defined"
     ]
    }
   ],
   "source": [
    "n_ep = 1\n",
    "n_iters = int( np.ceil( len(labels) / float(macro_batch_size) ) )\n",
    "print(\"# iters per epoch\", n_iters)\n",
    "net.set_writer(project_name=project_name, parameters=params)\n",
    "my_lr = init_lr\n",
    "\n",
    "n_check = 100\n",
    "\n",
    "debug = False\n",
    "\n",
    "\n",
    "\n",
    "for ep in range(1, n_ep+1):\n",
    "    print(\"============= EPOCH {} ==========\".format(ep))\n",
    "    if ep % lr_policy == 0:\n",
    "        my_lr /= 2\n",
    "        print(\"learning rate is now\", my_lr)\n",
    "    \n",
    "    for i in range(n_iters):\n",
    "        idx_offset = i * macro_batch_size\n",
    "        if i == (n_iters-1):\n",
    "            n = len(labels) - i*macro_batch_size\n",
    "            batch_imgs = psana_img_loader(eventIdxs, idx_offset, n, det, this_run, times)\n",
    "            batch_labels = labels[(i*macro_batch_size):]\n",
    "#             batch_labels = []\n",
    "        else:\n",
    "            batch_imgs = psana_img_loader(eventIdxs, idx_offset, macro_batch_size, det, this_run, times)\n",
    "            batch_labels = labels[i*macro_batch_size:(i+1)*macro_batch_size]\n",
    "#             print( len(batch_labels), len(batch_labels[0]), batch_labels[0][0].size() )\n",
    "#             batch_labels = [ (np.zeros((0,)), np.zeros((0,)), np.zeros((0,)), np.zeros((0,)), np.zeros((0,)), np.zeros((0,))) ]\n",
    "#         net.set_optimizer(adagrad=(algo==\"adagrad\"), lr=my_lr )\n",
    "        batch_imgs[ batch_imgs < 0 ] = 0\n",
    "        batch_imgs = batch_imgs / batch_imgs.max()\n",
    "        net.train( batch_imgs, batch_labels, mini_batch_size=64 )\n",
    "        \n",
    "#         net.optimize()\n",
    "        if debug and i == 0:\n",
    "            x_cpu = batch_imgs\n",
    "            y_cpu = batch_labels\n",
    "            break\n",
    "        \n",
    "        if (i+1) % n_check == 0:\n",
    "            batch_imgs = nor_fac * psana_img_loader(eventIdxs, 600, 10, det, this_run, times)\n",
    "            batch_labels = labels[(300*macro_batch_size):]\n",
    "            print(\"==================== VAL ====================\")\n",
    "            recall = net.validate( batch_imgs, batch_labels, mini_batch_size=32 )\n",
    "            print(\"VAL recall: {}\".format(round(recall*100)))\n",
    "            print(\"=============================================\")"
   ]
  },
  {
   "cell_type": "markdown",
   "metadata": {},
   "source": [
    "## Debugger for training"
   ]
  },
  {
   "cell_type": "code",
   "execution_count": null,
   "metadata": {},
   "outputs": [],
   "source": [
    "print(\"x shape\", x_cpu.shape)\n",
    "print(\"y length\", len(y_cpu))\n",
    "print(\"y[0] length\", len(y_cpu[0]))\n",
    "print(\"y[0][0] shape\", y_cpu[0][0].shape)\n",
    "\n",
    "n, m, h, w = x_cpu.shape"
   ]
  },
  {
   "cell_type": "code",
   "execution_count": null,
   "metadata": {},
   "outputs": [],
   "source": [
    "img_no = 1\n",
    "panel_no = 9\n",
    "\n",
    "fig, ax = plt.subplots(1)\n",
    "im0 = plt.imshow(x_cpu[img_no, panel_no, :,:], cmap=cm.gray, vmin=0)\n",
    "fig.set_size_inches(12, 6)\n",
    "for j, idx in enumerate(y_cpu[img_no][1]):\n",
    "    if idx == panel_no:\n",
    "        pass\n",
    "    else:\n",
    "        continue\n",
    "    ww = y_cpu[img_no][5][j] \n",
    "    hh = y_cpu[img_no][4][j]\n",
    "    x = y_cpu[img_no][3][j] - 0.5*ww\n",
    "    y = y_cpu[img_no][2][j] - 0.5*hh\n",
    "    print(y_cpu[img_no][0][j],y_cpu[img_no][1][j],x,y,ww,hh)\n",
    "    if y_cpu[img_no][0][j] == 0:\n",
    "        color = 'm'\n",
    "    else:\n",
    "        color = 'c'\n",
    "    rect = pat.Rectangle( (x, y), ww, hh, color=color, fill=False, linewidth=1 )\n",
    "    ax.add_patch(rect)"
   ]
  },
  {
   "cell_type": "markdown",
   "metadata": {},
   "source": [
    "## Predict"
   ]
  },
  {
   "cell_type": "code",
   "execution_count": null,
   "metadata": {},
   "outputs": [],
   "source": [
    "imgs = calib.reshape((1,32,185,388)) / calib.max()\n",
    "predict_labels = []\n",
    "print(\"imgs\", imgs.shape)\n",
    "# print(\"labels\", len(labels), len(labels[0]))"
   ]
  },
  {
   "cell_type": "code",
   "execution_count": null,
   "metadata": {},
   "outputs": [],
   "source": [
    "results = net.predict( imgs, batch_size=32, conf_thresh=0.01, nms_thresh=0.05, use_cuda=True )\n"
   ]
  },
  {
   "cell_type": "code",
   "execution_count": null,
   "metadata": {},
   "outputs": [],
   "source": [
    "print(len(results[0]), \"peaks found\")\n",
    "print((results[0]))"
   ]
  },
  {
   "cell_type": "code",
   "execution_count": null,
   "metadata": {},
   "outputs": [],
   "source": [
    "visualize(imgs, predict_labels, results, plot_label=False, plot_box=True, vmin=0, vmax=0.1,\n",
    "          indexes=[0, 1, 2, 3, 4, 5, 6, 7, 8, 9, 10, 11, 12, 13, 14, 15])"
   ]
  },
  {
   "cell_type": "code",
   "execution_count": null,
   "metadata": {},
   "outputs": [],
   "source": [
    "#a, b, c, d = build_dataset( filename, dev_size = 1, total_size=10 )"
   ]
  },
  {
   "cell_type": "code",
   "execution_count": null,
   "metadata": {},
   "outputs": [],
   "source": []
  }
 ],
 "metadata": {
  "kernelspec": {
   "display_name": "Python 2",
   "language": "python",
   "name": "python2"
  },
  "language_info": {
   "codemirror_mode": {
    "name": "ipython",
    "version": 2
   },
   "file_extension": ".py",
   "mimetype": "text/x-python",
   "name": "python",
   "nbconvert_exporter": "python",
   "pygments_lexer": "ipython2",
   "version": "2.7.15"
  }
 },
 "nbformat": 4,
 "nbformat_minor": 2
}
