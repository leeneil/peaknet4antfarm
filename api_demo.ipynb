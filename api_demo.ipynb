{
 "cells": [
  {
   "cell_type": "markdown",
   "metadata": {},
   "source": [
    "## Install\n",
    "\n",
    "``` shell\n",
    "conda create python=2.7 h5py jupyter -p ~/space/envs/peaknet\n",
    "conda install pytorch=0.1.12 torchvision cuda80 -c pytorch\n",
    "conda install tensorboardX\n",
    "```\n"
   ]
  },
  {
   "cell_type": "markdown",
   "metadata": {},
   "source": [
    "### Import packages"
   ]
  },
  {
   "cell_type": "code",
   "execution_count": null,
   "metadata": {},
   "outputs": [
    {
     "name": "stderr",
     "output_type": "stream",
     "text": [
      "/reg/neh/home/liponan/space/envs/peaknet/lib/python2.7/site-packages/h5py/__init__.py:34: FutureWarning: Conversion of the second argument of issubdtype from `float` to `np.floating` is deprecated. In future, it will be treated as `np.float64 == np.dtype(float).type`.\n",
      "  from ._conv import register_converters as _register_converters\n"
     ]
    }
   ],
   "source": [
    "%load_ext autoreload\n",
    "%autoreload 2\n",
    "import torch\n",
    "# import torchvision\n",
    "import numpy as np\n",
    "import time\n",
    "from peaknet import Peaknet\n",
    "from peaknet_utils import *"
   ]
  },
  {
   "cell_type": "markdown",
   "metadata": {},
   "source": [
    "### Load data from CXI"
   ]
  },
  {
   "cell_type": "code",
   "execution_count": null,
   "metadata": {},
   "outputs": [],
   "source": []
  },
  {
   "cell_type": "markdown",
   "metadata": {},
   "source": [
    "### Init. network"
   ]
  },
  {
   "cell_type": "code",
   "execution_count": 1,
   "metadata": {},
   "outputs": [
    {
     "ename": "NameError",
     "evalue": "name 'Peaknet' is not defined",
     "output_type": "error",
     "traceback": [
      "\u001b[0;31m---------------------------------------------------------------------------\u001b[0m",
      "\u001b[0;31mNameError\u001b[0m                                 Traceback (most recent call last)",
      "\u001b[0;32m<ipython-input-1-1a4db1571c75>\u001b[0m in \u001b[0;36m<module>\u001b[0;34m()\u001b[0m\n\u001b[0;32m----> 1\u001b[0;31m \u001b[0mnet\u001b[0m \u001b[0;34m=\u001b[0m \u001b[0mPeaknet\u001b[0m\u001b[0;34m(\u001b[0m\u001b[0;34m)\u001b[0m\u001b[0;34m\u001b[0m\u001b[0m\n\u001b[0m\u001b[1;32m      2\u001b[0m \u001b[0mnet\u001b[0m\u001b[0;34m.\u001b[0m\u001b[0mloadCfg\u001b[0m\u001b[0;34m(\u001b[0m \u001b[0;34m\"../pytorch-yolo2/cfg/newpeaksv10-asic.cfg\"\u001b[0m \u001b[0;34m)\u001b[0m\u001b[0;34m\u001b[0m\u001b[0m\n\u001b[1;32m      3\u001b[0m \u001b[0;31m# net.init_model()\u001b[0m\u001b[0;34m\u001b[0m\u001b[0;34m\u001b[0m\u001b[0m\n\u001b[1;32m      4\u001b[0m net.loadWeights( \"../pytorch-yolo2/cfg/newpeaksv10-asic.cfg\", \n\u001b[1;32m      5\u001b[0m                 \"../darknet/backup/newpeaksv10_10000.weights\")\n",
      "\u001b[0;31mNameError\u001b[0m: name 'Peaknet' is not defined"
     ]
    }
   ],
   "source": [
    "net = Peaknet()\n",
    "net.loadCfg( \"../pytorch-yolo2/cfg/newpeaksv10-asic.cfg\" )\n",
    "# net.init_model()\n",
    "net.loadWeights( \"../pytorch-yolo2/cfg/newpeaksv10-asic.cfg\", \n",
    "                \"../darknet/backup/newpeaksv10_10000.weights\")\n",
    "net.model.cuda()"
   ]
  },
  {
   "cell_type": "markdown",
   "metadata": {},
   "source": [
    "## Train"
   ]
  },
  {
   "cell_type": "markdown",
   "metadata": {},
   "source": [
    "### Dataset"
   ]
  },
  {
   "cell_type": "code",
   "execution_count": null,
   "metadata": {},
   "outputs": [],
   "source": [
    "filename = \"/reg/neh/home/liponan/data/cxic0415/r0091/cxic0415_0091.cxi.backup\"\n",
    "t0 = time.time()\n",
    "train_imgs, train_labels, dev_imgs, dev_labels = build_dataset( filename, dev_size = 100, total_size=-1 )\n",
    "t1 = time.time()\n",
    "print(\"took \" + str(t1-t0) + \" s to build the datasets\")\n",
    "print(\"train_imgs\", train_imgs.shape)\n",
    "print(\"train_labels\", len(train_labels), len(train_labels[0]))\n",
    "print(\"dev_imgs\", dev_imgs.shape)\n",
    "print(\"dev_labels\", len(dev_labels), len(dev_labels[0]))"
   ]
  },
  {
   "cell_type": "markdown",
   "metadata": {},
   "source": [
    "### Confg"
   ]
  },
  {
   "cell_type": "code",
   "execution_count": null,
   "metadata": {},
   "outputs": [],
   "source": [
    "project_name = \"runs/adagrad_lr_001_pretrained_40000_nooptim\"\n",
    "n_ep = 1\n",
    "init_lr = 0.01\n",
    "lr_policy = 1\n",
    "macro_batch_size = 4\n",
    "algo = \"adagrad\"\n",
    "\n",
    "params = {\"n_ep\":n_ep, \"lr\": init_lr, \"batch_size\":macro_batch_size, \"lr_policy\": lr_policy, \n",
    "          \"train_size\": len(train_labels), \"optim\": algo}\n",
    "\n",
    "net = Peaknet()\n",
    "net.loadCfg( \"../pytorch-yolo2/cfg/newpeaksv10-asic.cfg\" )\n",
    "net.loadWeights( \"../pytorch-yolo2/cfg/newpeaksv10-asic.cfg\", \n",
    "                \"../darknet/backup/newpeaksv10_40000.weights\")\n",
    "# net.init_model()\n",
    "net.model.cuda()"
   ]
  },
  {
   "cell_type": "code",
   "execution_count": null,
   "metadata": {},
   "outputs": [],
   "source": [
    "n_iters = int( np.ceil( len(train_labels) / float(macro_batch_size) ) )\n",
    "net.set_writer(project_name=project_name, parameters=params)\n",
    "my_lr = init_lr\n",
    "\n",
    "for ep in range(1, n_ep+1):\n",
    "    print(\"============= EPOCH {} ==========\".format(ep))\n",
    "    if ep % lr_policy == 0:\n",
    "        my_lr /= 2\n",
    "    for i in range(n_iters):\n",
    "        if i == (n_iters-1):\n",
    "            batch_imgs = train_imgs[(i*macro_batch_size):,:,:,:]\n",
    "            batch_labels = train_labels[(i*macro_batch_size):]\n",
    "        else:\n",
    "            batch_imgs = train_imgs[i*macro_batch_size:(i+1)*macro_batch_size,:,:,:]\n",
    "            batch_labels = train_labels[i*macro_batch_size:(i+1)*macro_batch_size]\n",
    "        net.train( batch_imgs, batch_labels, mini_batch_size=32 )\n",
    "        #net.set_optimizer(adagrad=(algo==\"adagrad\"), lr=my_lr )\n",
    "        #net.optimize()"
   ]
  },
  {
   "cell_type": "markdown",
   "metadata": {},
   "source": [
    "## Predict"
   ]
  },
  {
   "cell_type": "code",
   "execution_count": null,
   "metadata": {},
   "outputs": [],
   "source": [
    "filename = \"/reg/neh/home/liponan/data/cxic0415/r0091/cxic0415_0091.cxi.backup\"\n",
    "idx=468\n",
    "imgs, labels = imgs, labels = load_from_cxi( filename, idx )\n",
    "print(\"imgs\", imgs.shape)\n",
    "print(\"labels\", len(labels), len(labels[0]))"
   ]
  },
  {
   "cell_type": "code",
   "execution_count": null,
   "metadata": {},
   "outputs": [],
   "source": [
    "results = net.predict( imgs, batch_size=32, conf_thresh=0.10, use_cuda=True )\n"
   ]
  },
  {
   "cell_type": "code",
   "execution_count": null,
   "metadata": {},
   "outputs": [],
   "source": [
    "print((results[14]))"
   ]
  },
  {
   "cell_type": "code",
   "execution_count": null,
   "metadata": {},
   "outputs": [],
   "source": [
    "visualize(imgs, labels, results, plot_label=True, plot_box=True, indexes=[0, 1, 2, 3, 4, 5, 6, 7, 8, 9, 10, 11, 12, 13, 14, 15])"
   ]
  },
  {
   "cell_type": "code",
   "execution_count": null,
   "metadata": {},
   "outputs": [],
   "source": [
    "a, b, c, d = build_dataset( filename, dev_size = 1, total_size=10 )"
   ]
  },
  {
   "cell_type": "code",
   "execution_count": null,
   "metadata": {},
   "outputs": [],
   "source": []
  }
 ],
 "metadata": {
  "kernelspec": {
   "display_name": "Python 2",
   "language": "python",
   "name": "python2"
  },
  "language_info": {
   "codemirror_mode": {
    "name": "ipython",
    "version": 2
   },
   "file_extension": ".py",
   "mimetype": "text/x-python",
   "name": "python",
   "nbconvert_exporter": "python",
   "pygments_lexer": "ipython2",
   "version": "2.7.15"
  }
 },
 "nbformat": 4,
 "nbformat_minor": 2
}
